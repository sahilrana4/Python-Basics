{
  "cells": [
    {
      "cell_type": "markdown",
      "metadata": {
        "id": "N9WT1A65kY47"
      },
      "source": [
        "1. What is python, and why is it popular?\n",
        "-Basically python is high level programming language. It was created by \"Guido Van Rossum\" released in 1991.\n",
        "\n",
        "-Why: Python has simple syntax and easy to work & learn. Python provide to you multiple libraries according your workrs.\n",
        "\n",
        "2. What is an interpreter in python?\n",
        "-An interpreter is an program that executes python code directly line by line,rather than compiling entier code into machine code once.\n",
        "\n",
        "3. What is pre-defined keywords in python?\n",
        "-Python has reserved words that have special meaning and functionalities in python.That specific words you cannot be used variable names, function names etc.\n",
        "\n",
        "4. Can keywords be used as variable names?\n",
        "-No\n",
        "\n",
        "5. What is mutability in Python?\n",
        "-Objects & container whose state or value can be changed after they are created are called mutability. like: list,set, dict, etc....\n",
        "\n",
        "6. Why are lists mutable, but tuples are immutable?\n",
        "-List are mutable because you can modified, added, remove the value of list after has been created but on other hand of tuples you cannot modified, added, remove of tuple after has created.\n",
        "\n",
        "7.  What is the difference between “==” and “is” operators in Python?\n",
        "-\"==\" operator is use to compare two values or two operands but the other hand \"is\" operator is check two operands refer to the same object in memory.\n",
        "\n",
        "8. What are logical operators in Python?\n",
        "-Logical operators are used to combine conditional statement and perform logical operation on boolen values.\n",
        "\n",
        "9. What is type casting in Python?\n",
        "-Type casting is basicllay to convert the date type one to\n",
        "another.\n",
        "\n",
        "10.  What is the difference between implicit and explicit type casting?\n",
        "-In implicit type casting Python converts the datatype to another datatype automatically doesnot interfer by user but the other hand explicit type casting user can involment to convert the variable data type into the required datatype.\n",
        "\n",
        "11. What is the purpose of conditional statements in Python?\n",
        "-The purpose of conditional statements in Python is referring two or more conditions how they releate to another conditions and then executes certain block of code.\n",
        "\n",
        "12. How does the elif statement work?\n",
        "-If the first condition is false, it moves on to next\n",
        "\"elif\" statement and then check elif condition is true or false if condition is true print statement and condition is false then print else statement.\n",
        "\n",
        "13. What is the difference between for and while loops?\n",
        "-for loop: for loop is used to iterate a sequence(like list,tuple, etc...).\n",
        "\n",
        "While loop: while loop is used to repeatedly execute a block of code as long as a certain condiyion is true.\n",
        "\n",
        "14. Describe a scenario where a while loop is more suitable than a for loop?\n",
        "-Because the number if iteration is unknown beforehand and depends on a dynamic condition that may changes during execution."
      ]
    },
    {
      "cell_type": "markdown",
      "metadata": {
        "id": "2cDluZu42NbJ"
      },
      "source": [
        "Practical Question:\n",
        "\n",
        "1.  Write a Python program to print \"Hello, World!"
      ]
    },
    {
      "cell_type": "code",
      "execution_count": null,
      "metadata": {
        "colab": {
          "base_uri": "https://localhost:8080/"
        },
        "id": "1_apViZ02aP3",
        "outputId": "86d611a3-c927-4042-b555-625a82d109cb"
      },
      "outputs": [
        {
          "name": "stdout",
          "output_type": "stream",
          "text": [
            "Hello, World!\n"
          ]
        }
      ],
      "source": [
        "print(\"Hello, World!\")"
      ]
    },
    {
      "cell_type": "markdown",
      "metadata": {
        "id": "_kRwCyiE2pc3"
      },
      "source": [
        "2. Write a Python program that displays your name and age."
      ]
    },
    {
      "cell_type": "code",
      "execution_count": null,
      "metadata": {
        "colab": {
          "base_uri": "https://localhost:8080/"
        },
        "id": "3pZsDt91209u",
        "outputId": "3118c7ba-1573-48f4-8424-49a86f1cf543"
      },
      "outputs": [
        {
          "name": "stdout",
          "output_type": "stream",
          "text": [
            "Name:  Sahil Singh Rana\n",
            "Age:  20\n"
          ]
        }
      ],
      "source": [
        "name= \"Sahil Singh Rana\"\n",
        "age = 20\n",
        "print(\"Name: \", name)\n",
        "print(\"Age: \",age)"
      ]
    },
    {
      "cell_type": "markdown",
      "metadata": {
        "id": "5LHBNqWy3kBj"
      },
      "source": [
        "3. Write code to print all the pre-defined keywords in Python using the keyword library."
      ]
    },
    {
      "cell_type": "code",
      "execution_count": null,
      "metadata": {
        "colab": {
          "base_uri": "https://localhost:8080/"
        },
        "id": "4dpZXgSg4INx",
        "outputId": "9c0f705f-3cfb-4fb9-9fdf-04f5366e269f"
      },
      "outputs": [
        {
          "name": "stdout",
          "output_type": "stream",
          "text": [
            "['False', 'None', 'True', 'and', 'as', 'assert', 'async', 'await', 'break', 'class', 'continue', 'def', 'del', 'elif', 'else', 'except', 'finally', 'for', 'from', 'global', 'if', 'import', 'in', 'is', 'lambda', 'nonlocal', 'not', 'or', 'pass', 'raise', 'return', 'try', 'while', 'with', 'yield']\n"
          ]
        }
      ],
      "source": [
        "import keyword\n",
        "print(keyword.kwlist)"
      ]
    },
    {
      "cell_type": "markdown",
      "metadata": {
        "id": "NqWHlWt14cet"
      },
      "source": [
        "4. Write a program that checks if a given word is a Python keyword."
      ]
    },
    {
      "cell_type": "code",
      "execution_count": null,
      "metadata": {
        "colab": {
          "base_uri": "https://localhost:8080/"
        },
        "id": "N4amGDB04mcw",
        "outputId": "af103a2b-3d97-4e63-b382-5a51179c02af"
      },
      "outputs": [
        {
          "name": "stdout",
          "output_type": "stream",
          "text": [
            "enter any word:hello\n",
            "Your entered word is not keyword in python. \n"
          ]
        }
      ],
      "source": [
        "import keyword\n",
        "a = input(\"enter any word:\")\n",
        "if (keyword.iskeyword(a)):\n",
        "  print(\"Your entered word is keyword in python.\")\n",
        "else:\n",
        "  print(\"Your entered word is not keyword in python. \")"
      ]
    },
    {
      "cell_type": "markdown",
      "metadata": {
        "id": "9SRZFCrl5Oa2"
      },
      "source": [
        "5. Create a list and tuple in Python, and demonstrate how attempting to change an element works differently\n",
        "for each."
      ]
    },
    {
      "cell_type": "code",
      "execution_count": null,
      "metadata": {
        "colab": {
          "base_uri": "https://localhost:8080/"
        },
        "id": "ECuTO8K95Yhu",
        "outputId": "cfbd79e9-a19f-4830-ab8a-21838a857321"
      },
      "outputs": [
        {
          "name": "stdout",
          "output_type": "stream",
          "text": [
            "[1, 2, 3, 90]\n"
          ]
        }
      ],
      "source": [
        "my_list=[1,2,3,4]\n",
        "my_tuple=(10,20,30,40)\n",
        "my_list[3]=90\n",
        "print(my_list)"
      ]
    },
    {
      "cell_type": "code",
      "execution_count": null,
      "metadata": {
        "colab": {
          "base_uri": "https://localhost:8080/",
          "height": 158
        },
        "id": "wZCBfmOvI-PD",
        "outputId": "c01a578a-1dbe-4d2c-e672-15e397b27e86"
      },
      "outputs": [
        {
          "ename": "TypeError",
          "evalue": "'tuple' object does not support item assignment",
          "output_type": "error",
          "traceback": [
            "\u001b[0;31m---------------------------------------------------------------------------\u001b[0m",
            "\u001b[0;31mTypeError\u001b[0m                                 Traceback (most recent call last)",
            "\u001b[0;32m/tmp/ipython-input-16-1231363360.py\u001b[0m in \u001b[0;36m<cell line: 0>\u001b[0;34m()\u001b[0m\n\u001b[0;32m----> 1\u001b[0;31m \u001b[0mmy_tuple\u001b[0m\u001b[0;34m[\u001b[0m\u001b[0;36m3\u001b[0m\u001b[0;34m]\u001b[0m\u001b[0;34m=\u001b[0m\u001b[0;36m100\u001b[0m\u001b[0;34m\u001b[0m\u001b[0;34m\u001b[0m\u001b[0m\n\u001b[0m\u001b[1;32m      2\u001b[0m \u001b[0mprint\u001b[0m\u001b[0;34m(\u001b[0m\u001b[0mmy_tuple\u001b[0m\u001b[0;34m)\u001b[0m\u001b[0;34m\u001b[0m\u001b[0;34m\u001b[0m\u001b[0m\n",
            "\u001b[0;31mTypeError\u001b[0m: 'tuple' object does not support item assignment"
          ]
        }
      ],
      "source": [
        "my_tuple[3]=100\n",
        "print(my_tuple)"
      ]
    },
    {
      "cell_type": "markdown",
      "source": [
        "6. Write a function to demonstrate the behavior of mutable and immutable arguments."
      ],
      "metadata": {
        "id": "MlH9Tzkap92o"
      }
    },
    {
      "cell_type": "code",
      "execution_count": null,
      "metadata": {
        "colab": {
          "base_uri": "https://localhost:8080/"
        },
        "id": "hwD5nk5hJVyc",
        "outputId": "640fab1b-7971-4b05-c6f6-8d928e0bf8cc"
      },
      "outputs": [
        {
          "name": "stdout",
          "output_type": "stream",
          "text": [
            "[1, 2.0, 'sahil', 'fox']\n"
          ]
        }
      ],
      "source": [
        "list_container=[1,2.0,\"sahil\",\"eagle\"]\n",
        "list_container[3]=\"fox\"\n",
        "print(list_container) #mutable\n"
      ]
    },
    {
      "cell_type": "code",
      "execution_count": null,
      "metadata": {
        "colab": {
          "base_uri": "https://localhost:8080/",
          "height": 158
        },
        "id": "8nE2mpqLLb2H",
        "outputId": "52f5109b-fc10-484e-b30c-1b2954e1cb24"
      },
      "outputs": [
        {
          "ename": "NameError",
          "evalue": "name 'b' is not defined",
          "output_type": "error",
          "traceback": [
            "\u001b[0;31m---------------------------------------------------------------------------\u001b[0m",
            "\u001b[0;31mNameError\u001b[0m                                 Traceback (most recent call last)",
            "\u001b[0;32m/tmp/ipython-input-21-400329168.py\u001b[0m in \u001b[0;36m<cell line: 0>\u001b[0;34m()\u001b[0m\n\u001b[1;32m      1\u001b[0m \u001b[0ma\u001b[0m\u001b[0;34m=\u001b[0m\u001b[0;34m\"sahil\"\u001b[0m\u001b[0;34m\u001b[0m\u001b[0;34m\u001b[0m\u001b[0m\n\u001b[0;32m----> 2\u001b[0;31m \u001b[0mb\u001b[0m\u001b[0;34m[\u001b[0m\u001b[0;36m1\u001b[0m\u001b[0;34m]\u001b[0m\u001b[0;34m=\u001b[0m\u001b[0;34m\"e\"\u001b[0m\u001b[0;34m\u001b[0m\u001b[0;34m\u001b[0m\u001b[0m\n\u001b[0m",
            "\u001b[0;31mNameError\u001b[0m: name 'b' is not defined"
          ]
        }
      ],
      "source": [
        "a=\"sahil\"\n",
        "b[1]=\"e\" #immutable"
      ]
    },
    {
      "cell_type": "markdown",
      "metadata": {
        "id": "NnfvHHXbMIdC"
      },
      "source": [
        " 7. Write a program that performs basic arithmetic operations on two user-input numbers."
      ]
    },
    {
      "cell_type": "code",
      "execution_count": null,
      "metadata": {
        "colab": {
          "base_uri": "https://localhost:8080/"
        },
        "id": "7LEqscT6MM4i",
        "outputId": "cc37bc58-2f1b-4979-f6c1-34880c9c81c7"
      },
      "outputs": [
        {
          "name": "stdout",
          "output_type": "stream",
          "text": [
            "enter first number: 3\n",
            "enter second number: 2\n",
            "5\n",
            "1\n",
            "6\n",
            "1.5\n",
            "1\n",
            "9\n",
            "1\n"
          ]
        }
      ],
      "source": [
        "first=int(input(\"enter first number: \"))\n",
        "second=int(input(\"enter second number: \"))\n",
        "print(first+second)\n",
        "print(first-second)\n",
        "print(first*second)\n",
        "print(first/second)\n",
        "print(first%second)\n",
        "print(first**second)\n",
        "print(first//second)"
      ]
    },
    {
      "cell_type": "markdown",
      "metadata": {
        "id": "EHJEM_NDNcMJ"
      },
      "source": [
        "8. Write a program to demonstrate the use of logical operators."
      ]
    },
    {
      "cell_type": "code",
      "execution_count": null,
      "metadata": {
        "colab": {
          "base_uri": "https://localhost:8080/"
        },
        "id": "sBdlepfENdrw",
        "outputId": "b689cd7a-85ed-4ca7-89d9-b5fcaa9ddbb8"
      },
      "outputs": [
        {
          "name": "stdout",
          "output_type": "stream",
          "text": [
            "True\n",
            "False\n",
            "False\n",
            "False\n"
          ]
        }
      ],
      "source": [
        "print(6<9 and 4>3)#if both condition are right give true else it will false\n",
        "print(6<9 and 4<3)#its false because only one condtion in true\n",
        "print(6>9 and 4>3)#its false because only one condtion in true\n",
        "print(6>9 and 4<3)#its false because both condtion in false"
      ]
    },
    {
      "cell_type": "code",
      "execution_count": null,
      "metadata": {
        "colab": {
          "base_uri": "https://localhost:8080/"
        },
        "id": "CspjBb79N3dm",
        "outputId": "b152ac3c-310c-486d-d534-78c3d41bea95"
      },
      "outputs": [
        {
          "name": "stdout",
          "output_type": "stream",
          "text": [
            "True\n",
            "True\n",
            "True\n",
            "False\n"
          ]
        }
      ],
      "source": [
        "print(6<9 or 4>3)#if both condition are right give true else it will false\n",
        "print(6<9 or 4<3)#its true because only one condtion in true\n",
        "print(6>9 or 4>3)#its true because only one condtion in true\n",
        "print(6>9 or 4<3)#if both condition are wronge give false else it will true"
      ]
    },
    {
      "cell_type": "markdown",
      "metadata": {
        "id": "TKe3JXs8P7Zb"
      },
      "source": [
        "9. Write a Python program to convert user input from string to integer, float, and boolean types."
      ]
    },
    {
      "cell_type": "code",
      "execution_count": null,
      "metadata": {
        "colab": {
          "base_uri": "https://localhost:8080/"
        },
        "id": "aRk6l_P2P_J3",
        "outputId": "9cee928a-2f8c-41ff-cfa4-81149f9bf03d"
      },
      "outputs": [
        {
          "name": "stdout",
          "output_type": "stream",
          "text": [
            "enter any number55\n",
            "55\n",
            "55.0\n",
            "True\n"
          ]
        }
      ],
      "source": [
        "a=input(\"enter any number\")\n",
        "print(int(a))\n",
        "print(float(a))\n",
        "print(bool(a))"
      ]
    },
    {
      "cell_type": "markdown",
      "metadata": {
        "id": "K_RAOfekQsbU"
      },
      "source": [
        "10. Write code to demonstrate type casting with list elements."
      ]
    },
    {
      "cell_type": "code",
      "execution_count": null,
      "metadata": {
        "colab": {
          "base_uri": "https://localhost:8080/"
        },
        "id": "DCr_dG6hQ2wt",
        "outputId": "d6193580-b776-4716-c53b-7f329f9b955d"
      },
      "outputs": [
        {
          "output_type": "stream",
          "name": "stdout",
          "text": [
            "[1, 2.0, 'sahil', 'eagel']\n",
            "\n",
            "Before type casting:  <class 'int'>\n",
            "After type casting:  <class 'float'>\n",
            "\n",
            "Before type casting:  <class 'float'>\n",
            "After type casting:  <class 'int'>\n",
            "\n",
            "Before type casting:  <class 'str'>\n",
            "After type casting:  <class 'bool'>\n",
            "\n",
            "List after type casting:  [1.0, 2, True, 'eagel']\n"
          ]
        }
      ],
      "source": [
        "my_list=[1,2.0,\"sahil\",\"eagel\"]\n",
        "print(my_list)\n",
        "print()\n",
        "print(\"Before type casting: \", type(my_list[0]))\n",
        "my_list[0]=(float(my_list[0]))\n",
        "print(\"After type casting: \",type(my_list[0]))\n",
        "print()\n",
        "print(\"Before type casting: \", type(my_list[1]))\n",
        "my_list[1]=int(my_list[1])\n",
        "print(\"After type casting: \",type(my_list[1]))\n",
        "print()\n",
        "print(\"Before type casting: \", type(my_list[2]))\n",
        "my_list[2]=(bool(my_list[2]))\n",
        "print(\"After type casting: \",type(my_list[2]))\n",
        "print()\n",
        "print(\"List after type casting: \",my_list)\n",
        "\n",
        "\n",
        "\n"
      ]
    },
    {
      "cell_type": "markdown",
      "metadata": {
        "id": "UkVQraWpX0O_"
      },
      "source": [
        " 11. Write a program that checks if a number is positive, negative, or zero."
      ]
    },
    {
      "cell_type": "code",
      "execution_count": null,
      "metadata": {
        "colab": {
          "base_uri": "https://localhost:8080/"
        },
        "id": "ux1EfXBxX6ni",
        "outputId": "25598e01-0899-4f16-98a0-077d238c3438"
      },
      "outputs": [
        {
          "name": "stdout",
          "output_type": "stream",
          "text": [
            "Enter any number: 4\n",
            "Entered number is Positive number\n"
          ]
        }
      ],
      "source": [
        "number=int(input(\"Enter any number: \"))\n",
        "if(number>0):\n",
        "  print(\"Entered number is Positive number\")\n",
        "elif(number<0):\n",
        "  print(\"Entered number is Negative number \")\n",
        "else:\n",
        "  print(\"Entered number is Zero \")\n",
        "\n"
      ]
    },
    {
      "cell_type": "markdown",
      "metadata": {
        "id": "bsSOmEBhZsmP"
      },
      "source": [
        " 12. Write a for loop to print numbers from 1 to 10."
      ]
    },
    {
      "cell_type": "code",
      "execution_count": null,
      "metadata": {
        "colab": {
          "base_uri": "https://localhost:8080/"
        },
        "id": "gK-nBJKcZwed",
        "outputId": "ba55739a-0975-4ed2-ad0d-f3cba7b5522a"
      },
      "outputs": [
        {
          "name": "stdout",
          "output_type": "stream",
          "text": [
            "1\n",
            "2\n",
            "3\n",
            "4\n",
            "5\n",
            "6\n",
            "7\n",
            "8\n",
            "9\n",
            "10\n"
          ]
        }
      ],
      "source": [
        "for i in range(1,11):\n",
        "  print(i)"
      ]
    },
    {
      "cell_type": "markdown",
      "metadata": {
        "id": "MdcGAYJeafw5"
      },
      "source": [
        "13. Write a Python program to find the sum of all even numbers between 1 and 50."
      ]
    },
    {
      "cell_type": "code",
      "execution_count": null,
      "metadata": {
        "colab": {
          "base_uri": "https://localhost:8080/"
        },
        "id": "YSkMGPicajwr",
        "outputId": "5a091298-290b-401d-c877-b0b0fa5b922d"
      },
      "outputs": [
        {
          "name": "stdout",
          "output_type": "stream",
          "text": [
            "2\n",
            "4\n",
            "6\n",
            "8\n",
            "10\n",
            "12\n",
            "14\n",
            "16\n",
            "18\n",
            "20\n",
            "22\n",
            "24\n",
            "26\n",
            "28\n",
            "30\n",
            "32\n",
            "34\n",
            "36\n",
            "38\n",
            "40\n",
            "42\n",
            "44\n",
            "46\n",
            "48\n",
            "Sum is all even number:  600\n"
          ]
        }
      ],
      "source": [
        "from re import I\n",
        "sum = 0\n",
        "for i in range(2,50):\n",
        "  if(i%2==0):\n",
        "    print(i)\n",
        "    sum+=i\n",
        "print(\"Sum is all even number: \", sum)"
      ]
    },
    {
      "cell_type": "markdown",
      "metadata": {
        "id": "mAiRpfqrbmsa"
      },
      "source": [
        "14. Write a program to reverse a string using a while loop."
      ]
    },
    {
      "cell_type": "code",
      "source": [
        "x=input(\"Enter any word: \")\n",
        "y=\" \"\n",
        "i=len(x)-1\n",
        "while(i>=0):\n",
        "  y+=x[i]\n",
        "  i-=1\n",
        "print(y)"
      ],
      "metadata": {
        "colab": {
          "base_uri": "https://localhost:8080/"
        },
        "id": "dSN3xbwkiXQj",
        "outputId": "7cee21a7-6ed7-4827-bc71-3f8a1dba1b92"
      },
      "execution_count": 1,
      "outputs": [
        {
          "output_type": "stream",
          "name": "stdout",
          "text": [
            "Enter any word: python\n",
            " nohtyp\n"
          ]
        }
      ]
    },
    {
      "cell_type": "markdown",
      "metadata": {
        "id": "izahN7zFcMK1"
      },
      "source": [
        " 15. Write a Python program to calculate the factorial of a number provided by the user using a while loop"
      ]
    },
    {
      "cell_type": "code",
      "execution_count": null,
      "metadata": {
        "colab": {
          "base_uri": "https://localhost:8080/"
        },
        "id": "ogOZMzkscOrM",
        "outputId": "b437a774-eaa4-401f-f0e8-05b580a3135c"
      },
      "outputs": [
        {
          "output_type": "stream",
          "name": "stdout",
          "text": [
            "Enter any number: 5\n",
            "Factorial 120\n"
          ]
        }
      ],
      "source": [
        "fact=1\n",
        "i=1\n",
        "number=int(input(\"Enter any number: \"))\n",
        "while(i<=number):\n",
        "  fact*=i\n",
        "  i+=1\n",
        "print(\"Factorial\", fact)\n"
      ]
    },
    {
      "cell_type": "code",
      "execution_count": null,
      "metadata": {
        "id": "OPkbLAbDeb8C"
      },
      "outputs": [],
      "source": []
    }
  ],
  "metadata": {
    "colab": {
      "provenance": []
    },
    "kernelspec": {
      "display_name": "Python 3",
      "name": "python3"
    },
    "language_info": {
      "name": "python"
    }
  },
  "nbformat": 4,
  "nbformat_minor": 0
}